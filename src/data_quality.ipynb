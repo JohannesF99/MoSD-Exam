{
 "cells": [
  {
   "cell_type": "markdown",
   "metadata": {},
   "source": [
    "# Data Quality Assurance\n",
    "\n",
    "This notebook is to check for data quality features.\n",
    "\n",
    "## Dependecies"
   ]
  },
  {
   "cell_type": "code",
   "execution_count": null,
   "metadata": {},
   "outputs": [],
   "source": [
    "import pandas as pd"
   ]
  },
  {
   "cell_type": "markdown",
   "metadata": {},
   "source": [
    "## Completeness\n",
    "\n",
    "1. for the death/cases dataset:"
   ]
  },
  {
   "cell_type": "code",
   "execution_count": 8,
   "metadata": {},
   "outputs": [
    {
     "name": "stdout",
     "output_type": "stream",
     "text": [
      "Anzahl der Zeilen mit NA in 'weekly_count': 865\n",
      "Anzahl der Zeilen mit NA in 'rate_14_day': 965\n",
      "Anzahl der Zeilen mit NA in 'cumulative_count': 865\n",
      "Prozentsatz der Zeilen mit mindestens einem NA in den angegebenen Spalten: 7.63%\n"
     ]
    }
   ],
   "source": [
    "# CSV-Datei laden\n",
    "csv_file_path = '../data/covid_deaths.csv'\n",
    "df = pd.read_csv(csv_file_path)\n",
    "\n",
    "# Anzahl der Zeilen im DataFrame\n",
    "total_rows = len(df)\n",
    "\n",
    "# Anzahl der Zeilen mit NA\n",
    "na_counts = df[['weekly_count', 'rate_14_day', 'cumulative_count']].isna().sum()\n",
    "\n",
    "# Anzahl der Zeilen, die mindestens ein NA in den gewünschten Spalten enthalten\n",
    "na_rows = df[['weekly_count', 'rate_14_day', 'cumulative_count']].isna().any(axis=1).sum()\n",
    "\n",
    "# Prozentsatz der Zeilen mit NA\n",
    "na_percentage = (na_rows / total_rows) * 100\n",
    "\n",
    "print(f\"Anzahl der Zeilen mit NA in 'weekly_count': {na_counts['weekly_count']}\")\n",
    "print(f\"Anzahl der Zeilen mit NA in 'rate_14_day': {na_counts['rate_14_day']}\")\n",
    "print(f\"Anzahl der Zeilen mit NA in 'cumulative_count': {na_counts['cumulative_count']}\")\n",
    "print(f\"Prozentsatz der Zeilen mit mindestens einem NA in den angegebenen Spalten: {na_percentage:.2f}%\")"
   ]
  },
  {
   "cell_type": "markdown",
   "metadata": {},
   "source": [
    "2. for the testing volume dataset:"
   ]
  },
  {
   "cell_type": "code",
   "execution_count": 9,
   "metadata": {},
   "outputs": [
    {
     "name": "stdout",
     "output_type": "stream",
     "text": [
      "Anzahl der Zeilen mit NA in 'new_cases': 308\n",
      "Anzahl der Zeilen mit NA in 'tests_done': 1129\n",
      "Anzahl der Zeilen mit NA in 'testing_rate': 1129\n",
      "Anzahl der Zeilen mit NA in 'positivity_rate': 1154\n",
      "Anzahl der Zeilen mit NA in 'testing_data_source': 1129\n",
      "Prozentsatz der Zeilen mit mindestens einem NA in den angegebenen Spalten: 18.86%\n"
     ]
    }
   ],
   "source": [
    "# CSV-Datei laden\n",
    "csv_file_path = '../data/covid_testing.csv'\n",
    "df = pd.read_csv(csv_file_path)\n",
    "\n",
    "# Anzahl der Zeilen im DataFrame\n",
    "total_rows = len(df)\n",
    "\n",
    "# Anzahl der Zeilen mit NA\n",
    "na_counts = df[['new_cases','tests_done','testing_rate','positivity_rate','testing_data_source']].isna().sum()\n",
    "\n",
    "# Anzahl der Zeilen, die mindestens ein NA in den gewünschten Spalten enthalten\n",
    "na_rows = df[['new_cases','tests_done','testing_rate','positivity_rate','testing_data_source']].isna().any(axis=1).sum()\n",
    "\n",
    "# Prozentsatz der Zeilen mit NA\n",
    "na_percentage = (na_rows / total_rows) * 100\n",
    "\n",
    "print(f\"Anzahl der Zeilen mit NA in 'new_cases': {na_counts['new_cases']}\")\n",
    "print(f\"Anzahl der Zeilen mit NA in 'tests_done': {na_counts['tests_done']}\")\n",
    "print(f\"Anzahl der Zeilen mit NA in 'testing_rate': {na_counts['testing_rate']}\")\n",
    "print(f\"Anzahl der Zeilen mit NA in 'positivity_rate': {na_counts['positivity_rate']}\")\n",
    "print(f\"Anzahl der Zeilen mit NA in 'testing_data_source': {na_counts['testing_data_source']}\")\n",
    "print(f\"Prozentsatz der Zeilen mit mindestens einem NA in den angegebenen Spalten: {na_percentage:.2f}%\")"
   ]
  }
 ],
 "metadata": {
  "kernelspec": {
   "display_name": "Python 3",
   "language": "python",
   "name": "python3"
  },
  "language_info": {
   "codemirror_mode": {
    "name": "ipython",
    "version": 3
   },
   "file_extension": ".py",
   "mimetype": "text/x-python",
   "name": "python",
   "nbconvert_exporter": "python",
   "pygments_lexer": "ipython3",
   "version": "3.12.3"
  }
 },
 "nbformat": 4,
 "nbformat_minor": 2
}
