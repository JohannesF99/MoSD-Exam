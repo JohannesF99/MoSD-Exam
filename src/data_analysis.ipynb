{
 "cells": [
  {
   "cell_type": "markdown",
   "metadata": {},
   "source": [
    "# Data Analysis\n",
    "\n",
    "Here we analyse the processed data to find an answer to the research question.\n",
    "First we need to install the dependecies, then we load the data from one country and perform the actual analysis on that data.\n",
    "The goal is to generate a graph that shows the connection between testing and deaths/cases."
   ]
  },
  {
   "cell_type": "markdown",
   "metadata": {},
   "source": [
    "## Dependencies"
   ]
  },
  {
   "cell_type": "code",
   "execution_count": null,
   "metadata": {},
   "outputs": [],
   "source": [
    "import pandas as pd\n",
    "import matplotlib.pyplot as plt\n",
    "import os"
   ]
  },
  {
   "cell_type": "markdown",
   "metadata": {},
   "source": [
    "# Define \"generate_plot\" function"
   ]
  },
  {
   "cell_type": "code",
   "execution_count": null,
   "metadata": {},
   "outputs": [],
   "source": [
    "def generate_plot(df, country: str, indicator: str):\n",
    "    # Plot erstellen\n",
    "    fig, ax1 = plt.subplots()\n",
    "\n",
    "    # Maximalwerte finden\n",
    "    max_rate_14_day = df['rate_14_day'].max()\n",
    "    max_testing_rate = df['testing_rate'].max()\n",
    "    max_value = max(max_rate_14_day, max_testing_rate)\n",
    "\n",
    "    # Balkendiagramm für 'rate_14_day'\n",
    "    ax1.bar(df['year_week'], df['rate_14_day'], color='b', alpha=0.7, label='Rate 14 Day')\n",
    "    ax1.set_xlabel('Year Week')\n",
    "    ax1.set_ylabel('Rate 14 Day', color='b')\n",
    "    ax1.tick_params(axis='y', labelcolor='b')\n",
    "    ax1.set_xticklabels(df['year_week'], rotation=90)\n",
    "    ax1.set_ylim(0, max_value)\n",
    "\n",
    "    # Zweite Y-Achse für 'testing_rate'\n",
    "    ax2 = ax1.twinx()\n",
    "    ax2.plot(df['year_week'], df['testing_rate'], color='r', label='Testing Rate')\n",
    "    ax2.set_ylabel('Testing Rate', color='r')\n",
    "    ax2.tick_params(axis='y', labelcolor='r')\n",
    "    ax2.set_ylim(0, max_value)\n",
    "\n",
    "    # X-Achse anpassen, um nur jeden Januar zu zeigen\n",
    "    x_labels = df['year_week']\n",
    "    ax1.set_xticks([i for i, label in enumerate(x_labels) if label.endswith('-01') or label.endswith('-26')])\n",
    "    ax1.set_xticklabels([label for label in x_labels if label.endswith('-01') or label.endswith('-26')], rotation=45)\n",
    "\n",
    "    # Titel und Legende\n",
    "    plt.title('COVID-19 ' + indicator + ' Rate 14 Day and Testing Rate over Time in ' + country)\n",
    "    fig.tight_layout()\n",
    "    fig.legend(loc='upper left', bbox_to_anchor=(0.14, 0.9))\n",
    "\n",
    "    # Ordner erstellen, falls er nicht existiert\n",
    "    output_dir = '../data/graphs/' + country\n",
    "    os.makedirs(output_dir, exist_ok=True)\n",
    "\n",
    "    # Plot als PNG speichern\n",
    "    plt.savefig(os.path.join(output_dir, indicator + '_rate_testing_over_time_' + country + '.png'))"
   ]
  },
  {
   "cell_type": "markdown",
   "metadata": {},
   "source": [
    "## Load the dataset into Pandas Dataframe\n",
    "\n",
    "After loading the data, split it between normal cases and deaths and generatet the plots."
   ]
  },
  {
   "cell_type": "code",
   "execution_count": null,
   "metadata": {},
   "outputs": [],
   "source": [
    "# Directory where CSV files are stored\n",
    "directory = '../data/per_country'\n",
    "\n",
    "# Iterate over files in the directory\n",
    "for filename in os.listdir(directory):\n",
    "    if filename.endswith('.csv'):\n",
    "        # Extract country name from filename\n",
    "        country_name = filename[:-4].split('_')[-1]  # Remove \".csv\" and get last part after underscore\n",
    "    \n",
    "        # Load the CSV file\n",
    "        file_path = os.path.join(directory, filename)\n",
    "        df = pd.read_csv(file_path)\n",
    "        generate_plot(df[df['indicator'] == 'cases'], country_name, \"cases\")\n",
    "        generate_plot(df[df['indicator'] == 'deaths'], country_name, \"deaths\")"
   ]
  }
 ],
 "metadata": {
  "kernelspec": {
   "display_name": "venv",
   "language": "python",
   "name": "python3"
  },
  "language_info": {
   "codemirror_mode": {
    "name": "ipython",
    "version": 3
   },
   "file_extension": ".py",
   "mimetype": "text/x-python",
   "name": "python",
   "nbconvert_exporter": "python",
   "pygments_lexer": "ipython3",
   "version": "3.12.3"
  }
 },
 "nbformat": 4,
 "nbformat_minor": 2
}
