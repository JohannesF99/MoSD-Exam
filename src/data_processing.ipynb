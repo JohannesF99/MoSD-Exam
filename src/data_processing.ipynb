{
 "cells": [
  {
   "cell_type": "markdown",
   "metadata": {},
   "source": [
    "# Data Processing / Integration\n",
    "\n",
    "- In this step, the two datasets are goinf to get processed and exported to better analyse them in the next step.\n",
    "- Like in the Main Documentation under chapter *Integrate*, the following steps will be done:\n",
    "    - merge/join the datasets together based on the date\n",
    "    - remove the for this task not needed columns\n",
    "    - remove NaN rows\n",
    "    - export the dataset for every country"
   ]
  },
  {
   "cell_type": "markdown",
   "metadata": {},
   "source": [
    "## Imports and Dependecies"
   ]
  },
  {
   "cell_type": "code",
   "execution_count": 12,
   "metadata": {},
   "outputs": [],
   "source": [
    "import pandas as pd"
   ]
  },
  {
   "cell_type": "markdown",
   "metadata": {},
   "source": [
    "## Merge by Date"
   ]
  },
  {
   "cell_type": "code",
   "execution_count": 13,
   "metadata": {},
   "outputs": [],
   "source": [
    "# CSV-Dateien einlesen\n",
    "deaths = pd.read_csv('../data/covid_deaths.csv')\n",
    "tests = pd.read_csv('../data/covid_testing.csv')\n",
    "\n",
    "# 'W' aus der 'year_week'-Spalte von df2 entfernen\n",
    "tests['year_week'] = tests['year_week'].str.replace('W', '')\n",
    "\n",
    "# Fusionieren basierend auf 'country' und 'year_week'\n",
    "merged_df = pd.merge(deaths, tests, on=['country', 'year_week'], how='inner')"
   ]
  },
  {
   "cell_type": "markdown",
   "metadata": {},
   "source": [
    "## Remove unused columns"
   ]
  },
  {
   "cell_type": "code",
   "execution_count": 14,
   "metadata": {},
   "outputs": [],
   "source": [
    "useless_columns= [\n",
    "    'country_code_x', \n",
    "    'country_code_y',\n",
    "    'continent',\n",
    "    'population_x',\n",
    "    'population_y',\n",
    "    'source',\n",
    "    'note',\n",
    "    'level',\n",
    "    'region',\n",
    "    'region_name',\n",
    "    'testing_data_source'\n",
    "]\n",
    "\n",
    "# Entfernen der Spalten 'country_code_x' und 'country_code_y'\n",
    "merged_df.drop(columns=useless_columns, inplace=True)"
   ]
  },
  {
   "cell_type": "markdown",
   "metadata": {},
   "source": [
    "## Remove NaN Rows and Export"
   ]
  },
  {
   "cell_type": "code",
   "execution_count": 18,
   "metadata": {},
   "outputs": [
    {
     "name": "stdout",
     "output_type": "stream",
     "text": [
      "       country indicator  weekly_count year_week  rate_14_day  \\\n",
      "40     Austria     cases        7487.0   2020-41   145.774624   \n",
      "41     Austria     cases        9898.0   2020-42   193.619974   \n",
      "42     Austria     cases       18262.0   2020-43   313.623150   \n",
      "43     Austria     cases       31613.0   2020-44   555.467139   \n",
      "44     Austria     cases       44772.0   2020-45   850.713933   \n",
      "...        ...       ...           ...       ...          ...   \n",
      "12235   Sweden    deaths          87.0   2023-43    13.298475   \n",
      "12236   Sweden    deaths         101.0   2023-44    17.986427   \n",
      "12237   Sweden    deaths         167.0   2023-45    25.640226   \n",
      "12238   Sweden    deaths         160.0   2023-46    31.284903   \n",
      "12239   Sweden    deaths           1.0   2023-47    15.403270   \n",
      "\n",
      "       cumulative_count  new_cases  tests_done  testing_rate  positivity_rate  \n",
      "40              56508.0     7487.0    124663.0   1388.394986         6.005792  \n",
      "41              66406.0     9898.0    129647.0   1443.902719         7.634577  \n",
      "42              84668.0    18262.0    158997.0   1770.779121        11.485751  \n",
      "43             116281.0    31613.0    167926.0   1870.223052        18.825554  \n",
      "44             161053.0    44772.0    199567.0   2222.614746        22.434571  \n",
      "...                 ...        ...         ...           ...              ...  \n",
      "12235           25139.0     1992.0      7317.0     70.003557        27.224272  \n",
      "12236           25240.0     2730.0      8819.0     84.373564        30.955891  \n",
      "12237           25407.0     3523.0     10180.0     97.394589        34.607073  \n",
      "12238           25567.0     3344.0     10297.0     98.513958        32.475478  \n",
      "12239           25568.0     3282.0     10170.0     97.298917        32.271386  \n",
      "\n",
      "[9644 rows x 10 columns]\n"
     ]
    }
   ],
   "source": [
    "# Entfernen aller Zeilen mit NaN-Werten\n",
    "cleaned_df = merged_df.dropna()\n",
    "\n",
    "# Exportieren der Daten in separate CSV-Dateien für jedes Land\n",
    "countries = cleaned_df['country'].unique()\n",
    "\n",
    "for country in countries:\n",
    "    country_df = cleaned_df[cleaned_df['country'] == country]\n",
    "    country_df.to_csv(f'../data/out/deaths_cases_testing_{country}.csv', index=False)"
   ]
  }
 ],
 "metadata": {
  "kernelspec": {
   "display_name": "venv",
   "language": "python",
   "name": "python3"
  },
  "language_info": {
   "codemirror_mode": {
    "name": "ipython",
    "version": 3
   },
   "file_extension": ".py",
   "mimetype": "text/x-python",
   "name": "python",
   "nbconvert_exporter": "python",
   "pygments_lexer": "ipython3",
   "version": "3.12.3"
  }
 },
 "nbformat": 4,
 "nbformat_minor": 2
}
