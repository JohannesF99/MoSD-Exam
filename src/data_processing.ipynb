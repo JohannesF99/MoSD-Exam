{
 "cells": [
  {
   "cell_type": "markdown",
   "metadata": {},
   "source": [
    "# Data Processing / Integration\n",
    "\n",
    "- In this step, the two datasets are goinf to get processed and exported to better analyse them in the next step.\n",
    "- Like in the Main Documentation under chapter *Integrate*, the following steps will be done:\n",
    "    - merge/join the datasets together based on the date\n",
    "    - remove the for this task not needed columns\n",
    "    - remove NaN rows\n",
    "    - export the dataset for every country"
   ]
  },
  {
   "cell_type": "markdown",
   "metadata": {},
   "source": [
    "## Imports and Dependecies"
   ]
  },
  {
   "cell_type": "code",
   "execution_count": 1,
   "metadata": {},
   "outputs": [],
   "source": [
    "import pandas as pd"
   ]
  },
  {
   "cell_type": "markdown",
   "metadata": {},
   "source": [
    "## Merge by Date"
   ]
  },
  {
   "cell_type": "code",
   "execution_count": 2,
   "metadata": {},
   "outputs": [],
   "source": [
    "# CSV-Dateien einlesen\n",
    "deaths = pd.read_csv('../data/covid_deaths.csv')\n",
    "tests = pd.read_csv('../data/covid_testing.csv')\n",
    "\n",
    "# 'W' aus der 'year_week'-Spalte von df2 entfernen\n",
    "tests['year_week'] = tests['year_week'].str.replace('W', '')\n",
    "\n",
    "# Fusionieren basierend auf 'country' und 'year_week'\n",
    "merged_df = pd.merge(deaths, tests, on=['country', 'year_week'], how='inner')"
   ]
  },
  {
   "cell_type": "markdown",
   "metadata": {},
   "source": [
    "## Remove unused columns"
   ]
  },
  {
   "cell_type": "code",
   "execution_count": 3,
   "metadata": {},
   "outputs": [],
   "source": [
    "useless_columns= [\n",
    "    'country_code_x', \n",
    "    'country_code_y',\n",
    "    'continent',\n",
    "    'population_x',\n",
    "    'population_y',\n",
    "    'source',\n",
    "    'note',\n",
    "    'level',\n",
    "    'region',\n",
    "    'region_name',\n",
    "    'testing_data_source',\n",
    "    'weekly_count'\n",
    "]\n",
    "\n",
    "# Entfernen der Spalten 'country_code_x' und 'country_code_y'\n",
    "merged_df.drop(columns=useless_columns, inplace=True)"
   ]
  },
  {
   "cell_type": "markdown",
   "metadata": {},
   "source": [
    "## Remove NaN Rows and Export"
   ]
  },
  {
   "cell_type": "code",
   "execution_count": 4,
   "metadata": {},
   "outputs": [],
   "source": [
    "# Entfernen aller Zeilen mit NaN-Werten\n",
    "cleaned_df = merged_df.dropna()\n",
    "\n",
    "# Exportieren der Daten in separate CSV-Dateien für jedes Land\n",
    "countries = cleaned_df['country'].unique()\n",
    "\n",
    "for country in countries:\n",
    "    country_df = cleaned_df[cleaned_df['country'] == country]\n",
    "    country_df.to_csv(f'../data/per_country/deaths_cases_testing_{country}.csv', index=False)"
   ]
  }
 ],
 "metadata": {
  "kernelspec": {
   "display_name": "venv",
   "language": "python",
   "name": "python3"
  },
  "language_info": {
   "codemirror_mode": {
    "name": "ipython",
    "version": 3
   },
   "file_extension": ".py",
   "mimetype": "text/x-python",
   "name": "python",
   "nbconvert_exporter": "python",
   "pygments_lexer": "ipython3",
   "version": "3.12.3"
  }
 },
 "nbformat": 4,
 "nbformat_minor": 2
}
